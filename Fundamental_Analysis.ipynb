{
  "nbformat": 4,
  "nbformat_minor": 0,
  "metadata": {
    "colab": {
      "provenance": [],
      "authorship_tag": "ABX9TyOS8OkUKLQKajK6jn7C+gJJ",
      "include_colab_link": true
    },
    "kernelspec": {
      "name": "python3",
      "display_name": "Python 3"
    },
    "language_info": {
      "name": "python"
    }
  },
  "cells": [
    {
      "cell_type": "markdown",
      "metadata": {
        "id": "view-in-github",
        "colab_type": "text"
      },
      "source": [
        "<a href=\"https://colab.research.google.com/github/bala-ceg/stock_strategies/blob/main/Fundamental_Analysis.ipynb\" target=\"_parent\"><img src=\"https://colab.research.google.com/assets/colab-badge.svg\" alt=\"Open In Colab\"/></a>"
      ]
    },
    {
      "cell_type": "markdown",
      "source": [
        "## Installing and Importing Necessary Libs"
      ],
      "metadata": {
        "id": "MXP8JRabdmik"
      }
    },
    {
      "cell_type": "code",
      "source": [
        "!pip install -q llama-index\n",
        "!pip install -q llama-index-llms-openai\n",
        "!pip install -q nsepython\n",
        "!pip install -q yfinance\n",
        "!pip install -q supabase\n",
        "!pip install -q psycopg2"
      ],
      "metadata": {
        "id": "F8z_4KkahIIP"
      },
      "execution_count": 2,
      "outputs": []
    },
    {
      "cell_type": "code",
      "source": [
        "import os\n",
        "from google.colab import userdata\n",
        "\n",
        "os.environ[\"OPENAI_API_KEY\"] = userdata.get('MDB_API_KEY')\n",
        "os.environ[\"OPENAI_API_BASE\"] = userdata.get('MDB_URL')\n",
        "SUPABASE_URL = userdata.get('SUPABASE_URL')\n",
        "SUPABASE_KEY = userdata.get('SUPABASE_KEY')\n",
        "CONN_STRING= f\"dbname='{userdata.get('DBNAME')}' user='{userdata.get('USER')}' host='{userdata.get('HOST')}' port='{userdata.get('PORT')}' password='{userdata.get('PASSWORD')}'\""
      ],
      "metadata": {
        "id": "mH42GIxAd1KW"
      },
      "execution_count": 6,
      "outputs": []
    },
    {
      "cell_type": "code",
      "source": [
        "from llama_index.llms.openai import OpenAI\n",
        "\n",
        "llm = OpenAI()\n",
        "response = llm.complete(\"Explain the 75-day Hard challenge in one line\")\n",
        "print(response)"
      ],
      "metadata": {
        "colab": {
          "base_uri": "https://localhost:8080/"
        },
        "id": "hZPuckpchASB",
        "outputId": "a6f23d5f-0eb6-468f-c607-11187b03cb57"
      },
      "execution_count": 7,
      "outputs": [
        {
          "output_type": "stream",
          "name": "stdout",
          "text": [
            "The 75-day Hard challenge is a mental and physical challenge that requires participants to follow a strict daily routine of two workouts, a healthy diet, and personal development tasks for 75 consecutive days.\n"
          ]
        }
      ]
    },
    {
      "cell_type": "markdown",
      "source": [
        "## Fundamentals of Stock"
      ],
      "metadata": {
        "id": "4sURK1q0hGks"
      }
    },
    {
      "cell_type": "code",
      "source": [
        "import yfinance as yf\n",
        "\n",
        "ticker_symbol = \"SOUTHBANK.NS\"\n",
        "\n",
        "stock = yf.Ticker(ticker_symbol)\n",
        "\n",
        "book_value = stock.info.get('bookValue')\n",
        "\n",
        "print(f\"The book value per share for {ticker_symbol} is: {book_value}\")\n",
        "earnings_ttm = stock.info.get('trailingEps')\n",
        "print(f\"The earnings per share for {ticker_symbol} is: {earnings_ttm}\")"
      ],
      "metadata": {
        "id": "lXQhjFRrhWLz",
        "outputId": "b72567c1-7b8b-4fa7-de22-b60e815b4ca1",
        "colab": {
          "base_uri": "https://localhost:8080/"
        }
      },
      "execution_count": 8,
      "outputs": [
        {
          "output_type": "stream",
          "name": "stdout",
          "text": [
            "The book value per share for SOUTHBANK.NS is: 35.887\n",
            "The earnings per share for SOUTHBANK.NS is: 5.3\n"
          ]
        }
      ]
    },
    {
      "cell_type": "code",
      "source": [
        "from supabase import create_client\n",
        "import csv\n",
        "import psycopg2\n",
        "import pandas as pd\n",
        "\n",
        "supabase = create_client(SUPABASE_URL, SUPABASE_KEY)\n",
        "conn = psycopg2.connect(CONN_STRING)\n",
        "cur = conn.cursor()"
      ],
      "metadata": {
        "id": "ruW9I-J-nqZ_"
      },
      "execution_count": 24,
      "outputs": []
    },
    {
      "cell_type": "code",
      "source": [
        "query = f\"SELECT * FROM nifty100\"\n",
        "cur.execute(query)\n",
        "\n",
        "rows = cur.fetchall()\n",
        "query = f\"SELECT column_name FROM INFORMATION_SCHEMA.COLUMNS WHERE table_name = 'nifty100'\"\n",
        "cur.execute(query)\n",
        "\n",
        "columns = cur.fetchall()\n",
        "\n",
        "nifty100_df = pd.DataFrame(rows, columns=[col[0] for col in columns])"
      ],
      "metadata": {
        "id": "thRR8SYMoOdF"
      },
      "execution_count": 42,
      "outputs": []
    },
    {
      "cell_type": "code",
      "source": [
        "nifty100_symbol =[]\n",
        "for index, row in nifty100_df.iterrows():\n",
        "  nifty100_symbol.append(row['Symbol'] + \".NS\")\n",
        "print(nifty100_symbol)"
      ],
      "metadata": {
        "id": "bGgiicOqofuT",
        "outputId": "686a94a5-d756-4d17-9835-3f107dfcfe9d",
        "colab": {
          "base_uri": "https://localhost:8080/"
        }
      },
      "execution_count": 43,
      "outputs": [
        {
          "output_type": "stream",
          "name": "stdout",
          "text": [
            "['ABB.NS', 'ADANIENSOL.NS', 'ADANIENT.NS', 'ADANIGREEN.NS', 'ADANIPORTS.NS', 'ATGL.NS', 'AWL.NS', 'AMBUJACEM.NS', 'APOLLOHOSP.NS', 'ASIANPAINT.NS', 'DMART.NS', 'AXISBANK.NS', 'BAJAJ-AUTO.NS', 'BAJFINANCE.NS', 'BAJAJFINSV.NS', 'BAJAJHLDNG.NS', 'BANKBARODA.NS', 'BERGEPAINT.NS', 'BEL.NS', 'BPCL.NS', 'BHARTIARTL.NS', 'BOSCHLTD.NS', 'BRITANNIA.NS', 'CANBK.NS', 'CHOLAFIN.NS', 'CIPLA.NS', 'COALINDIA.NS', 'COLPAL.NS', 'DLF.NS', 'DABUR.NS', 'DIVISLAB.NS', 'DRREDDY.NS', 'EICHERMOT.NS', 'GAIL.NS', 'GODREJCP.NS', 'GRASIM.NS', 'HCLTECH.NS', 'HDFCBANK.NS', 'HDFCLIFE.NS', 'HAVELLS.NS', 'HEROMOTOCO.NS', 'HINDALCO.NS', 'HAL.NS', 'HINDUNILVR.NS', 'ICICIBANK.NS', 'ICICIGI.NS', 'ICICIPRULI.NS', 'ITC.NS', 'IOC.NS', 'IRCTC.NS', 'INDUSINDBK.NS', 'NAUKRI.NS', 'INFY.NS', 'INDIGO.NS', 'JSWSTEEL.NS', 'JINDALSTEL.NS', 'KOTAKBANK.NS', 'LTIM.NS', 'LT.NS', 'LICI.NS', 'M%26M.NS', 'MARICO.NS', 'MARUTI.NS', 'MUTHOOTFIN.NS', 'NTPC.NS', 'NESTLEIND.NS', 'ONGC.NS', 'PIIND.NS', 'PIDILITIND.NS', 'POWERGRID.NS', 'PGHH.NS', 'PNB.NS', 'RELIANCE.NS', 'SBICARD.NS', 'SBILIFE.NS', 'SRF.NS', 'MOTHERSON.NS', 'SHREECEM.NS', 'SHRIRAMFIN.NS', 'SIEMENS.NS', 'SBIN.NS', 'SUNPHARMA.NS', 'TVSMOTOR.NS', 'TCS.NS', 'TATACONSUM.NS', 'TATAMTRDVR.NS', 'TATAMOTORS.NS', 'TATAPOWER.NS', 'TATASTEEL.NS', 'TECHM.NS', 'TITAN.NS', 'TORNTPHARM.NS', 'TRENT.NS', 'UPL.NS', 'ULTRACEMCO.NS', 'MCDOWELL-N.NS', 'VBL.NS', 'VEDL.NS', 'WIPRO.NS', 'ZOMATO.NS', 'ZYDUSLIFE.NS']\n"
          ]
        }
      ]
    },
    {
      "cell_type": "code",
      "source": [
        "import yfinance as yf\n",
        "\n",
        "# Define a function to fetch income statement data\n",
        "def get_income_statement(ticker_symbol: str):\n",
        "    ticker = yf.Ticker(ticker_symbol)\n",
        "\n",
        "    # Income statement info\n",
        "    financials = ticker.financials  # Fetches the income statement\n",
        "\n",
        "    # Extract necessary fields from the income statement\n",
        "    income_statement_data = {\n",
        "        'Revenue': financials.loc['Total Revenue'][0] if 'Total Revenue' in financials.index else None,\n",
        "        'Gross Profit': financials.loc['Gross Profit'][0] if 'Gross Profit' in financials.index else None,\n",
        "        'Operating Income': financials.loc['Operating Income'][0] if 'Operating Income' in financials.index else None,\n",
        "        'Net Income': financials.loc['Net Income'][0] if 'Net Income' in financials.index else None,\n",
        "        'EBITDA': financials.loc['EBITDA'][0] if 'EBITDA' in financials.index else None,\n",
        "        'EPS': ticker.info['trailingEps'] if 'trailingEps' in ticker.info else None,\n",
        "    }\n",
        "\n",
        "    return income_statement_data\n",
        "\n",
        "# Example usage:\n",
        "ticker_symbol = 'AAPL'  # Replace 'AAPL' with any valid stock ticker\n",
        "income_statement = get_income_statement(ticker_symbol)\n",
        "\n",
        "print(\"Income Statement Data for\", ticker_symbol)\n",
        "for key, value in income_statement.items():\n",
        "    print(f\"{key}: {value}\")\n"
      ],
      "metadata": {
        "id": "OwLJPH9BrOeI",
        "outputId": "5a2b0f96-cc6c-4ea6-90a1-0a69cf80c37d",
        "colab": {
          "base_uri": "https://localhost:8080/"
        }
      },
      "execution_count": 44,
      "outputs": [
        {
          "output_type": "stream",
          "name": "stdout",
          "text": [
            "Income Statement Data for AAPL\n",
            "Revenue: 383285000000.0\n",
            "Gross Profit: 169148000000.0\n",
            "Operating Income: 114301000000.0\n",
            "Net Income: 96995000000.0\n",
            "EBITDA: 129188000000.0\n",
            "EPS: 6.58\n"
          ]
        },
        {
          "output_type": "stream",
          "name": "stderr",
          "text": [
            "<ipython-input-44-bc04ffe49e28>:12: FutureWarning: Series.__getitem__ treating keys as positions is deprecated. In a future version, integer keys will always be treated as labels (consistent with DataFrame behavior). To access a value by position, use `ser.iloc[pos]`\n",
            "  'Revenue': financials.loc['Total Revenue'][0] if 'Total Revenue' in financials.index else None,\n",
            "<ipython-input-44-bc04ffe49e28>:13: FutureWarning: Series.__getitem__ treating keys as positions is deprecated. In a future version, integer keys will always be treated as labels (consistent with DataFrame behavior). To access a value by position, use `ser.iloc[pos]`\n",
            "  'Gross Profit': financials.loc['Gross Profit'][0] if 'Gross Profit' in financials.index else None,\n",
            "<ipython-input-44-bc04ffe49e28>:14: FutureWarning: Series.__getitem__ treating keys as positions is deprecated. In a future version, integer keys will always be treated as labels (consistent with DataFrame behavior). To access a value by position, use `ser.iloc[pos]`\n",
            "  'Operating Income': financials.loc['Operating Income'][0] if 'Operating Income' in financials.index else None,\n",
            "<ipython-input-44-bc04ffe49e28>:15: FutureWarning: Series.__getitem__ treating keys as positions is deprecated. In a future version, integer keys will always be treated as labels (consistent with DataFrame behavior). To access a value by position, use `ser.iloc[pos]`\n",
            "  'Net Income': financials.loc['Net Income'][0] if 'Net Income' in financials.index else None,\n",
            "<ipython-input-44-bc04ffe49e28>:16: FutureWarning: Series.__getitem__ treating keys as positions is deprecated. In a future version, integer keys will always be treated as labels (consistent with DataFrame behavior). To access a value by position, use `ser.iloc[pos]`\n",
            "  'EBITDA': financials.loc['EBITDA'][0] if 'EBITDA' in financials.index else None,\n"
          ]
        }
      ]
    }
  ]
}