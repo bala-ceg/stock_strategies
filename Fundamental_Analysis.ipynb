{
  "nbformat": 4,
  "nbformat_minor": 0,
  "metadata": {
    "colab": {
      "provenance": [],
      "authorship_tag": "ABX9TyMRsOOFO17+m81/vkJXxnb2",
      "include_colab_link": true
    },
    "kernelspec": {
      "name": "python3",
      "display_name": "Python 3"
    },
    "language_info": {
      "name": "python"
    }
  },
  "cells": [
    {
      "cell_type": "markdown",
      "metadata": {
        "id": "view-in-github",
        "colab_type": "text"
      },
      "source": [
        "<a href=\"https://colab.research.google.com/github/bala-ceg/stock_strategies/blob/main/Fundamental_Analysis.ipynb\" target=\"_parent\"><img src=\"https://colab.research.google.com/assets/colab-badge.svg\" alt=\"Open In Colab\"/></a>"
      ]
    },
    {
      "cell_type": "markdown",
      "source": [
        "## Installing and Importing Necessary Libs"
      ],
      "metadata": {
        "id": "MXP8JRabdmik"
      }
    },
    {
      "cell_type": "code",
      "source": [
        "!pip install -q llama-index\n",
        "!pip install -q llama-index-llms-openai\n",
        "!pip install -q nsepython\n",
        "!pip install -q yfinance\n",
        "!pip install -q supabse"
      ],
      "metadata": {
        "id": "F8z_4KkahIIP"
      },
      "execution_count": null,
      "outputs": []
    },
    {
      "cell_type": "code",
      "source": [
        "import os\n",
        "from google.colab import userdata\n",
        "\n",
        "os.environ[\"OPENAI_API_KEY\"] = userdata.get('MDB_API_KEY')\n",
        "os.environ[\"OPENAI_API_BASE\"] = userdata.get('MDB_URL')"
      ],
      "metadata": {
        "id": "mH42GIxAd1KW"
      },
      "execution_count": null,
      "outputs": []
    },
    {
      "cell_type": "code",
      "source": [
        "from llama_index.llms.openai import OpenAI\n",
        "\n",
        "llm = OpenAI()\n",
        "response = llm.complete(\"Explain the 75-day Hard challenge\")\n",
        "print(response)"
      ],
      "metadata": {
        "colab": {
          "base_uri": "https://localhost:8080/"
        },
        "id": "hZPuckpchASB",
        "outputId": "b839b9e6-aa87-44f3-e826-72923b75d87e"
      },
      "execution_count": null,
      "outputs": [
        {
          "output_type": "stream",
          "name": "stdout",
          "text": [
            "The 75 Hard challenge is a mental toughness challenge created by entrepreneur Andy Frisella. The challenge consists of following a strict set of rules for 75 days straight in order to develop discipline, mental toughness, and resilience. \n",
            "\n",
            "The rules of the challenge include:\n",
            "\n",
            "1. Follow a diet with no cheat meals or alcohol.\n",
            "2. Exercise twice a day for at least 45 minutes each session, with one session being outdoors.\n",
            "3. Drink at least one gallon of water per day.\n",
            "4. Read 10 pages of a non-fiction book each day.\n",
            "5. Take a progress picture every day.\n",
            "\n",
            "If you fail to complete any of these tasks on any given day, you must start over from day one. The purpose of the challenge is to push yourself outside of your comfort zone, develop healthy habits, and build mental strength. Many people who have completed the challenge report feeling more disciplined, focused, and confident as a result.\n"
          ]
        }
      ]
    },
    {
      "cell_type": "markdown",
      "source": [
        "## Fundamentals of Stock"
      ],
      "metadata": {
        "id": "4sURK1q0hGks"
      }
    },
    {
      "cell_type": "code",
      "source": [
        "import yfinance as yf\n",
        "\n",
        "ticker_symbol = \"SOUTHBANK.NS\"\n",
        "\n",
        "stock = yf.Ticker(ticker_symbol)\n",
        "\n",
        "book_value = stock.info.get('bookValue')\n",
        "\n",
        "print(f\"The book value per share for {ticker_symbol} is: {book_value}\")\n",
        "earnings_ttm = stock.info.get('trailingEps')\n",
        "print(f\"The earnings per share for {ticker_symbol} is: {earnings_ttm}\")"
      ],
      "metadata": {
        "id": "lXQhjFRrhWLz",
        "outputId": "e12ce7c0-fec3-4edb-b5b1-84928406a184",
        "colab": {
          "base_uri": "https://localhost:8080/"
        }
      },
      "execution_count": null,
      "outputs": [
        {
          "output_type": "stream",
          "name": "stdout",
          "text": [
            "The book value per share for SOUTHBANK.NS is: 34.898\n",
            "The earnings per share for SOUTHBANK.NS is: 5.09\n"
          ]
        }
      ]
    }
  ]
}